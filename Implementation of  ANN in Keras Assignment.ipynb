{
 "cells": [
  {
   "cell_type": "markdown",
   "id": "b8639f1e-74d2-4be7-a7b0-bfe06b40cf0f",
   "metadata": {},
   "source": [
    "Q1. Install and load the latest versions of TensorFlow and Keras. Print their versions."
   ]
  },
  {
   "cell_type": "code",
   "execution_count": 4,
   "id": "d0a7ecfc-1a32-445d-a977-bedb4a7c666e",
   "metadata": {},
   "outputs": [
    {
     "name": "stdout",
     "output_type": "stream",
     "text": [
      "Collecting tensorflow\n",
      "  Downloading tensorflow-2.15.0.post1-cp310-cp310-manylinux_2_17_x86_64.manylinux2014_x86_64.whl (475.2 MB)\n",
      "\u001b[2K     \u001b[90m━━━━━━━━━━━━━━━━━━━━━━━━━━━━━━━━━━━━━━━\u001b[0m \u001b[32m475.2/475.2 MB\u001b[0m \u001b[31m3.1 MB/s\u001b[0m eta \u001b[36m0:00:00\u001b[0m00:01\u001b[0m00:01\u001b[0m\n",
      "\u001b[?25hRequirement already satisfied: six>=1.12.0 in /opt/conda/lib/python3.10/site-packages (from tensorflow) (1.16.0)\n",
      "Collecting gast!=0.5.0,!=0.5.1,!=0.5.2,>=0.2.1\n",
      "  Downloading gast-0.5.4-py3-none-any.whl (19 kB)\n",
      "Collecting absl-py>=1.0.0\n",
      "  Downloading absl_py-2.1.0-py3-none-any.whl (133 kB)\n",
      "\u001b[2K     \u001b[90m━━━━━━━━━━━━━━━━━━━━━━━━━━━━━━━━━━━━━━\u001b[0m \u001b[32m133.7/133.7 kB\u001b[0m \u001b[31m22.6 MB/s\u001b[0m eta \u001b[36m0:00:00\u001b[0m\n",
      "\u001b[?25hRequirement already satisfied: h5py>=2.9.0 in /opt/conda/lib/python3.10/site-packages (from tensorflow) (3.7.0)\n",
      "Requirement already satisfied: setuptools in /opt/conda/lib/python3.10/site-packages (from tensorflow) (65.5.1)\n",
      "Collecting google-pasta>=0.1.1\n",
      "  Downloading google_pasta-0.2.0-py3-none-any.whl (57 kB)\n",
      "\u001b[2K     \u001b[90m━━━━━━━━━━━━━━━━━━━━━━━━━━━━━━━━━━━━━━━━\u001b[0m \u001b[32m57.5/57.5 kB\u001b[0m \u001b[31m10.8 MB/s\u001b[0m eta \u001b[36m0:00:00\u001b[0m\n",
      "\u001b[?25hRequirement already satisfied: numpy<2.0.0,>=1.23.5 in /opt/conda/lib/python3.10/site-packages (from tensorflow) (1.23.5)\n",
      "Requirement already satisfied: typing-extensions>=3.6.6 in /opt/conda/lib/python3.10/site-packages (from tensorflow) (4.4.0)\n",
      "Collecting ml-dtypes~=0.2.0\n",
      "  Downloading ml_dtypes-0.2.0-cp310-cp310-manylinux_2_17_x86_64.manylinux2014_x86_64.whl (1.0 MB)\n",
      "\u001b[2K     \u001b[90m━━━━━━━━━━━━━━━━━━━━━━━━━━━━━━━━━━━━━━━━\u001b[0m \u001b[32m1.0/1.0 MB\u001b[0m \u001b[31m60.0 MB/s\u001b[0m eta \u001b[36m0:00:00\u001b[0m\n",
      "\u001b[?25hCollecting wrapt<1.15,>=1.11.0\n",
      "  Downloading wrapt-1.14.1-cp310-cp310-manylinux_2_5_x86_64.manylinux1_x86_64.manylinux_2_17_x86_64.manylinux2014_x86_64.whl (77 kB)\n",
      "\u001b[2K     \u001b[90m━━━━━━━━━━━━━━━━━━━━━━━━━━━━━━━━━━━━━━━━\u001b[0m \u001b[32m77.9/77.9 kB\u001b[0m \u001b[31m14.4 MB/s\u001b[0m eta \u001b[36m0:00:00\u001b[0m\n",
      "\u001b[?25hCollecting tensorflow-estimator<2.16,>=2.15.0\n",
      "  Downloading tensorflow_estimator-2.15.0-py2.py3-none-any.whl (441 kB)\n",
      "\u001b[2K     \u001b[90m━━━━━━━━━━━━━━━━━━━━━━━━━━━━━━━━━━━━━━\u001b[0m \u001b[32m442.0/442.0 kB\u001b[0m \u001b[31m49.4 MB/s\u001b[0m eta \u001b[36m0:00:00\u001b[0m\n",
      "\u001b[?25hRequirement already satisfied: packaging in /opt/conda/lib/python3.10/site-packages (from tensorflow) (22.0)\n",
      "Collecting tensorflow-io-gcs-filesystem>=0.23.1\n",
      "  Downloading tensorflow_io_gcs_filesystem-0.35.0-cp310-cp310-manylinux_2_17_x86_64.manylinux2014_x86_64.whl (3.2 MB)\n",
      "\u001b[2K     \u001b[90m━━━━━━━━━━━━━━━━━━━━━━━━━━━━━━━━━━━━━━━━\u001b[0m \u001b[32m3.2/3.2 MB\u001b[0m \u001b[31m57.3 MB/s\u001b[0m eta \u001b[36m0:00:00\u001b[0ma \u001b[36m0:00:01\u001b[0m\n",
      "\u001b[?25hCollecting keras<2.16,>=2.15.0\n",
      "  Downloading keras-2.15.0-py3-none-any.whl (1.7 MB)\n",
      "\u001b[2K     \u001b[90m━━━━━━━━━━━━━━━━━━━━━━━━━━━━━━━━━━━━━━━━\u001b[0m \u001b[32m1.7/1.7 MB\u001b[0m \u001b[31m77.6 MB/s\u001b[0m eta \u001b[36m0:00:00\u001b[0m\n",
      "\u001b[?25hCollecting flatbuffers>=23.5.26\n",
      "  Downloading flatbuffers-23.5.26-py2.py3-none-any.whl (26 kB)\n",
      "Collecting termcolor>=1.1.0\n",
      "  Downloading termcolor-2.4.0-py3-none-any.whl (7.7 kB)\n",
      "Collecting grpcio<2.0,>=1.24.3\n",
      "  Downloading grpcio-1.60.1-cp310-cp310-manylinux_2_17_x86_64.manylinux2014_x86_64.whl (5.4 MB)\n",
      "\u001b[2K     \u001b[90m━━━━━━━━━━━━━━━━━━━━━━━━━━━━━━━━━━━━━━━━\u001b[0m \u001b[32m5.4/5.4 MB\u001b[0m \u001b[31m76.5 MB/s\u001b[0m eta \u001b[36m0:00:00\u001b[0m:00:01\u001b[0m00:01\u001b[0m\n",
      "\u001b[?25hCollecting opt-einsum>=2.3.2\n",
      "  Downloading opt_einsum-3.3.0-py3-none-any.whl (65 kB)\n",
      "\u001b[2K     \u001b[90m━━━━━━━━━━━━━━━━━━━━━━━━━━━━━━━━━━━━━━━━\u001b[0m \u001b[32m65.5/65.5 kB\u001b[0m \u001b[31m12.9 MB/s\u001b[0m eta \u001b[36m0:00:00\u001b[0m\n",
      "\u001b[?25hCollecting tensorboard<2.16,>=2.15\n",
      "  Downloading tensorboard-2.15.1-py3-none-any.whl (5.5 MB)\n",
      "\u001b[2K     \u001b[90m━━━━━━━━━━━━━━━━━━━━━━━━━━━━━━━━━━━━━━━━\u001b[0m \u001b[32m5.5/5.5 MB\u001b[0m \u001b[31m75.0 MB/s\u001b[0m eta \u001b[36m0:00:00\u001b[0m:00:01\u001b[0m00:01\u001b[0m\n",
      "\u001b[?25hRequirement already satisfied: protobuf!=4.21.0,!=4.21.1,!=4.21.2,!=4.21.3,!=4.21.4,!=4.21.5,<5.0.0dev,>=3.20.3 in /opt/conda/lib/python3.10/site-packages (from tensorflow) (4.21.11)\n",
      "Collecting libclang>=13.0.0\n",
      "  Downloading libclang-16.0.6-py2.py3-none-manylinux2010_x86_64.whl (22.9 MB)\n",
      "\u001b[2K     \u001b[90m━━━━━━━━━━━━━━━━━━━━━━━━━━━━━━━━━━━━━━━━\u001b[0m \u001b[32m22.9/22.9 MB\u001b[0m \u001b[31m53.3 MB/s\u001b[0m eta \u001b[36m0:00:00\u001b[0m00:01\u001b[0m00:01\u001b[0m\n",
      "\u001b[?25hCollecting astunparse>=1.6.0\n",
      "  Downloading astunparse-1.6.3-py2.py3-none-any.whl (12 kB)\n",
      "Requirement already satisfied: wheel<1.0,>=0.23.0 in /opt/conda/lib/python3.10/site-packages (from astunparse>=1.6.0->tensorflow) (0.38.4)\n",
      "Requirement already satisfied: requests<3,>=2.21.0 in /opt/conda/lib/python3.10/site-packages (from tensorboard<2.16,>=2.15->tensorflow) (2.28.1)\n",
      "Collecting werkzeug>=1.0.1\n",
      "  Downloading werkzeug-3.0.1-py3-none-any.whl (226 kB)\n",
      "\u001b[2K     \u001b[90m━━━━━━━━━━━━━━━━━━━━━━━━━━━━━━━━━━━━━━\u001b[0m \u001b[32m226.7/226.7 kB\u001b[0m \u001b[31m32.3 MB/s\u001b[0m eta \u001b[36m0:00:00\u001b[0m\n",
      "\u001b[?25hCollecting google-auth-oauthlib<2,>=0.5\n",
      "  Downloading google_auth_oauthlib-1.2.0-py2.py3-none-any.whl (24 kB)\n",
      "Collecting google-auth<3,>=1.6.3\n",
      "  Downloading google_auth-2.27.0-py2.py3-none-any.whl (186 kB)\n",
      "\u001b[2K     \u001b[90m━━━━━━━━━━━━━━━━━━━━━━━━━━━━━━━━━━━━━━\u001b[0m \u001b[32m186.8/186.8 kB\u001b[0m \u001b[31m28.2 MB/s\u001b[0m eta \u001b[36m0:00:00\u001b[0m\n",
      "\u001b[?25hCollecting tensorboard-data-server<0.8.0,>=0.7.0\n",
      "  Downloading tensorboard_data_server-0.7.2-py3-none-manylinux_2_31_x86_64.whl (6.6 MB)\n",
      "\u001b[2K     \u001b[90m━━━━━━━━━━━━━━━━━━━━━━━━━━━━━━━━━━━━━━━━\u001b[0m \u001b[32m6.6/6.6 MB\u001b[0m \u001b[31m72.9 MB/s\u001b[0m eta \u001b[36m0:00:00\u001b[0m:00:01\u001b[0m0:01\u001b[0m\n",
      "\u001b[?25hCollecting markdown>=2.6.8\n",
      "  Downloading Markdown-3.5.2-py3-none-any.whl (103 kB)\n",
      "\u001b[2K     \u001b[90m━━━━━━━━━━━━━━━━━━━━━━━━━━━━━━━━━━━━━━\u001b[0m \u001b[32m103.9/103.9 kB\u001b[0m \u001b[31m18.3 MB/s\u001b[0m eta \u001b[36m0:00:00\u001b[0m\n",
      "\u001b[?25hCollecting cachetools<6.0,>=2.0.0\n",
      "  Downloading cachetools-5.3.2-py3-none-any.whl (9.3 kB)\n",
      "Collecting pyasn1-modules>=0.2.1\n",
      "  Downloading pyasn1_modules-0.3.0-py2.py3-none-any.whl (181 kB)\n",
      "\u001b[2K     \u001b[90m━━━━━━━━━━━━━━━━━━━━━━━━━━━━━━━━━━━━━━\u001b[0m \u001b[32m181.3/181.3 kB\u001b[0m \u001b[31m29.1 MB/s\u001b[0m eta \u001b[36m0:00:00\u001b[0m\n",
      "\u001b[?25hCollecting rsa<5,>=3.1.4\n",
      "  Downloading rsa-4.9-py3-none-any.whl (34 kB)\n",
      "Collecting requests-oauthlib>=0.7.0\n",
      "  Downloading requests_oauthlib-1.3.1-py2.py3-none-any.whl (23 kB)\n",
      "Requirement already satisfied: charset-normalizer<3,>=2 in /opt/conda/lib/python3.10/site-packages (from requests<3,>=2.21.0->tensorboard<2.16,>=2.15->tensorflow) (2.1.1)\n",
      "Requirement already satisfied: urllib3<1.27,>=1.21.1 in /opt/conda/lib/python3.10/site-packages (from requests<3,>=2.21.0->tensorboard<2.16,>=2.15->tensorflow) (1.26.13)\n",
      "Requirement already satisfied: certifi>=2017.4.17 in /opt/conda/lib/python3.10/site-packages (from requests<3,>=2.21.0->tensorboard<2.16,>=2.15->tensorflow) (2022.12.7)\n",
      "Requirement already satisfied: idna<4,>=2.5 in /opt/conda/lib/python3.10/site-packages (from requests<3,>=2.21.0->tensorboard<2.16,>=2.15->tensorflow) (3.4)\n",
      "Requirement already satisfied: MarkupSafe>=2.1.1 in /opt/conda/lib/python3.10/site-packages (from werkzeug>=1.0.1->tensorboard<2.16,>=2.15->tensorflow) (2.1.1)\n",
      "Collecting pyasn1<0.6.0,>=0.4.6\n",
      "  Downloading pyasn1-0.5.1-py2.py3-none-any.whl (84 kB)\n",
      "\u001b[2K     \u001b[90m━━━━━━━━━━━━━━━━━━━━━━━━━━━━━━━━━━━━━━━━\u001b[0m \u001b[32m84.9/84.9 kB\u001b[0m \u001b[31m15.5 MB/s\u001b[0m eta \u001b[36m0:00:00\u001b[0m\n",
      "\u001b[?25hRequirement already satisfied: oauthlib>=3.0.0 in /opt/conda/lib/python3.10/site-packages (from requests-oauthlib>=0.7.0->google-auth-oauthlib<2,>=0.5->tensorboard<2.16,>=2.15->tensorflow) (3.2.2)\n",
      "Installing collected packages: libclang, flatbuffers, wrapt, werkzeug, termcolor, tensorflow-io-gcs-filesystem, tensorflow-estimator, tensorboard-data-server, pyasn1, opt-einsum, ml-dtypes, markdown, keras, grpcio, google-pasta, gast, cachetools, astunparse, absl-py, rsa, requests-oauthlib, pyasn1-modules, google-auth, google-auth-oauthlib, tensorboard, tensorflow\n",
      "Successfully installed absl-py-2.1.0 astunparse-1.6.3 cachetools-5.3.2 flatbuffers-23.5.26 gast-0.5.4 google-auth-2.27.0 google-auth-oauthlib-1.2.0 google-pasta-0.2.0 grpcio-1.60.1 keras-2.15.0 libclang-16.0.6 markdown-3.5.2 ml-dtypes-0.2.0 opt-einsum-3.3.0 pyasn1-0.5.1 pyasn1-modules-0.3.0 requests-oauthlib-1.3.1 rsa-4.9 tensorboard-2.15.1 tensorboard-data-server-0.7.2 tensorflow-2.15.0.post1 tensorflow-estimator-2.15.0 tensorflow-io-gcs-filesystem-0.35.0 termcolor-2.4.0 werkzeug-3.0.1 wrapt-1.14.1\n",
      "Requirement already satisfied: keras in /opt/conda/lib/python3.10/site-packages (2.15.0)\n"
     ]
    }
   ],
   "source": [
    "!pip install tensorflow\n",
    "!pip install keras\n"
   ]
  },
  {
   "cell_type": "code",
   "execution_count": 7,
   "id": "f4c73895-fa3d-4522-91a9-d5941b9977f4",
   "metadata": {},
   "outputs": [],
   "source": [
    "import tensorflow as tf"
   ]
  },
  {
   "cell_type": "code",
   "execution_count": 8,
   "id": "0258acec-232e-406a-ab08-d1b9f2049b08",
   "metadata": {},
   "outputs": [
    {
     "name": "stdout",
     "output_type": "stream",
     "text": [
      "TensorFlow version: 2.15.0\n",
      "Keras version: 2.15.0\n"
     ]
    }
   ],
   "source": [
    "from keras import __version__ as keras_version\n",
    "\n",
    "# Print versions\n",
    "print(\"TensorFlow version:\", tf.__version__)\n",
    "print(\"Keras version:\", keras_version)"
   ]
  },
  {
   "cell_type": "markdown",
   "id": "467e958d-eec1-4b22-832f-aa4495207b07",
   "metadata": {},
   "source": [
    "Q2.Load the Wine Quality dataset and explore its dimensions. "
   ]
  },
  {
   "cell_type": "code",
   "execution_count": 9,
   "id": "978c1529-9b2f-4cac-9e0a-d8f91a65f5d9",
   "metadata": {},
   "outputs": [],
   "source": [
    "import pandas as pd\n",
    "\n",
    "wine_data = pd.read_csv('https://archive.ics.uci.edu/ml/machine-learning-databases/wine-quality/winequality-red.csv', sep=';')"
   ]
  },
  {
   "cell_type": "code",
   "execution_count": 10,
   "id": "e6a9eecc-a106-4ee9-bf86-efff371bd47c",
   "metadata": {},
   "outputs": [
    {
     "name": "stdout",
     "output_type": "stream",
     "text": [
      "Dimensions of the Wine Quality dataset: (1599, 12)\n"
     ]
    }
   ],
   "source": [
    "# Display the dimensions of the dataset\n",
    "print(\"Dimensions of the Wine Quality dataset:\", wine_data.shape)"
   ]
  },
  {
   "cell_type": "markdown",
   "id": "156ed627-2141-435e-b62a-88487380021e",
   "metadata": {},
   "source": [
    "Q3. Check for null values, identify categorical variables, and encode them."
   ]
  },
  {
   "cell_type": "code",
   "execution_count": 11,
   "id": "0ae3f5fc-ac64-447e-a00f-627f059461ec",
   "metadata": {},
   "outputs": [],
   "source": [
    "import pandas as pd\n",
    "from sklearn.preprocessing import LabelEncoder\n"
   ]
  },
  {
   "cell_type": "code",
   "execution_count": 12,
   "id": "4f278551-4a2b-4b54-994c-41e1443965b3",
   "metadata": {},
   "outputs": [
    {
     "name": "stdout",
     "output_type": "stream",
     "text": [
      "Null values in the dataset:\n",
      " fixed acidity           0\n",
      "volatile acidity        0\n",
      "citric acid             0\n",
      "residual sugar          0\n",
      "chlorides               0\n",
      "free sulfur dioxide     0\n",
      "total sulfur dioxide    0\n",
      "density                 0\n",
      "pH                      0\n",
      "sulphates               0\n",
      "alcohol                 0\n",
      "quality                 0\n",
      "dtype: int64\n"
     ]
    }
   ],
   "source": [
    "print(\"Null values in the dataset:\\n\", wine_data.isnull().sum())"
   ]
  },
  {
   "cell_type": "code",
   "execution_count": 13,
   "id": "bf2ab406-a2f3-4ac5-ae01-40a320e9c870",
   "metadata": {},
   "outputs": [
    {
     "name": "stdout",
     "output_type": "stream",
     "text": [
      "Categorical variables: Index([], dtype='object')\n"
     ]
    }
   ],
   "source": [
    "categorical_cols = wine_data.select_dtypes(include=['object']).columns\n",
    "print(\"Categorical variables:\", categorical_cols)\n"
   ]
  },
  {
   "cell_type": "code",
   "execution_count": 14,
   "id": "38f0aee1-e9fa-498e-b334-59cd0ec285be",
   "metadata": {},
   "outputs": [],
   "source": [
    "label_encoders = {}\n",
    "for col in categorical_cols:\n",
    "    label_encoders[col] = LabelEncoder()\n",
    "    wine_data[col] = label_encoders[col].fit_transform(wine_data[col])"
   ]
  },
  {
   "cell_type": "code",
   "execution_count": 15,
   "id": "153a0683-c050-46a4-be64-06b96fac529b",
   "metadata": {},
   "outputs": [
    {
     "name": "stdout",
     "output_type": "stream",
     "text": [
      "\n",
      "Encoded dataset:\n",
      "    fixed acidity  volatile acidity  citric acid  residual sugar  chlorides  \\\n",
      "0            7.4              0.70         0.00             1.9      0.076   \n",
      "1            7.8              0.88         0.00             2.6      0.098   \n",
      "2            7.8              0.76         0.04             2.3      0.092   \n",
      "3           11.2              0.28         0.56             1.9      0.075   \n",
      "4            7.4              0.70         0.00             1.9      0.076   \n",
      "\n",
      "   free sulfur dioxide  total sulfur dioxide  density    pH  sulphates  \\\n",
      "0                 11.0                  34.0   0.9978  3.51       0.56   \n",
      "1                 25.0                  67.0   0.9968  3.20       0.68   \n",
      "2                 15.0                  54.0   0.9970  3.26       0.65   \n",
      "3                 17.0                  60.0   0.9980  3.16       0.58   \n",
      "4                 11.0                  34.0   0.9978  3.51       0.56   \n",
      "\n",
      "   alcohol  quality  \n",
      "0      9.4        5  \n",
      "1      9.8        5  \n",
      "2      9.8        5  \n",
      "3      9.8        6  \n",
      "4      9.4        5  \n"
     ]
    }
   ],
   "source": [
    "# Display the encoded dataset\n",
    "print(\"\\nEncoded dataset:\\n\", wine_data.head())"
   ]
  },
  {
   "cell_type": "markdown",
   "id": "ead0753a-c386-4f99-bcfe-28f74656f01b",
   "metadata": {},
   "source": [
    "Q4. Separate the features and target variables from the dataset."
   ]
  },
  {
   "cell_type": "code",
   "execution_count": 16,
   "id": "d81cc4ef-dd12-4853-bb72-3e3a0eebcd22",
   "metadata": {},
   "outputs": [],
   "source": [
    "X = wine_data.drop(columns=['quality'])\n",
    "y = wine_data['quality'] \n"
   ]
  },
  {
   "cell_type": "code",
   "execution_count": 17,
   "id": "9dfccc62-4bb1-4d4d-90d0-a80b4bbbaadc",
   "metadata": {},
   "outputs": [
    {
     "name": "stdout",
     "output_type": "stream",
     "text": [
      "Shape of features (X): (1599, 11)\n",
      "Shape of target (y): (1599,)\n"
     ]
    }
   ],
   "source": [
    "print(\"Shape of features (X):\", X.shape)\n",
    "print(\"Shape of target (y):\", y.shape)"
   ]
  },
  {
   "cell_type": "markdown",
   "id": "03394638-14a6-4400-973c-c239bdd486ee",
   "metadata": {},
   "source": [
    "Q5. Perform a train-test split, dividing the data into training, validation, and test datasets."
   ]
  },
  {
   "cell_type": "code",
   "execution_count": 18,
   "id": "e6907e7f-bfa8-4db7-8b4d-cc9a24d0cc18",
   "metadata": {},
   "outputs": [],
   "source": [
    "from sklearn.model_selection import train_test_split"
   ]
  },
  {
   "cell_type": "code",
   "execution_count": 19,
   "id": "9ba4c102-9a93-456f-bbf6-773c7f74d4e8",
   "metadata": {},
   "outputs": [],
   "source": [
    "X_train_temp, X_test, y_train_temp, y_test = train_test_split(X, y, test_size=0.2, random_state=42)\n"
   ]
  },
  {
   "cell_type": "code",
   "execution_count": 20,
   "id": "dbbe1f18-8174-4e9d-bae8-89010329179d",
   "metadata": {},
   "outputs": [
    {
     "name": "stdout",
     "output_type": "stream",
     "text": [
      "Training set (X_train) shape: (959, 11)\n",
      "Validation set (X_val) shape: (320, 11)\n",
      "Test set (X_test) shape: (320, 11)\n"
     ]
    }
   ],
   "source": [
    "X_train, X_val, y_train, y_val = train_test_split(X_train_temp, y_train_temp, test_size=0.25, random_state=42)\n",
    "print(\"Training set (X_train) shape:\", X_train.shape)\n",
    "print(\"Validation set (X_val) shape:\", X_val.shape)\n",
    "print(\"Test set (X_test) shape:\", X_test.shape)"
   ]
  },
  {
   "cell_type": "markdown",
   "id": "74681038-0713-4463-8377-dcdc8e7794c3",
   "metadata": {},
   "source": [
    "Q6. Scale the dataset using an appropriate scaling technique."
   ]
  },
  {
   "cell_type": "code",
   "execution_count": 22,
   "id": "417a29e0-0dda-48de-86fc-8fcf39d65cf9",
   "metadata": {},
   "outputs": [],
   "source": [
    "from sklearn.preprocessing import StandardScaler"
   ]
  },
  {
   "cell_type": "code",
   "execution_count": 23,
   "id": "fba892df-02ac-4889-a1c9-ec9ea02dbd64",
   "metadata": {},
   "outputs": [],
   "source": [
    "# Initialize the scaler\n",
    "scaler = StandardScaler()"
   ]
  },
  {
   "cell_type": "code",
   "execution_count": 24,
   "id": "ad62f1d0-313e-4924-a44a-7b3ef91005ec",
   "metadata": {},
   "outputs": [],
   "source": [
    "# Fit the scaler on the training set and transform the training set\n",
    "X_train_scaled = scaler.fit_transform(X_train)"
   ]
  },
  {
   "cell_type": "code",
   "execution_count": 25,
   "id": "f31f18d1-f8de-4b02-b2b2-47cb20f48029",
   "metadata": {},
   "outputs": [],
   "source": [
    "# Transform the validation and test sets using the same scaler\n",
    "X_val_scaled = scaler.transform(X_val)\n",
    "X_test_scaled = scaler.transform(X_test)"
   ]
  },
  {
   "cell_type": "markdown",
   "id": "a087b966-951c-4c65-acf7-8e5dab8cc445",
   "metadata": {},
   "source": [
    "Q7. Design and implement at least two hidden layers and an output layer for the binary categorical\n",
    "variables."
   ]
  },
  {
   "cell_type": "code",
   "execution_count": 26,
   "id": "fdc407b9-514d-48cb-a59a-a89e0bddc5e7",
   "metadata": {},
   "outputs": [],
   "source": [
    "from keras.models import Sequential\n",
    "from keras.layers import Dense"
   ]
  },
  {
   "cell_type": "code",
   "execution_count": 28,
   "id": "48219399-4218-4c30-95c7-c2ee3b78da13",
   "metadata": {},
   "outputs": [],
   "source": [
    "model = Sequential()"
   ]
  },
  {
   "cell_type": "code",
   "execution_count": 29,
   "id": "9a0b41dc-f41a-4cd8-82c6-f2cbb6e7e589",
   "metadata": {},
   "outputs": [],
   "source": [
    "model.add(Dense(64, activation='relu', input_shape=(X_train_scaled.shape[1],)))\n"
   ]
  },
  {
   "cell_type": "code",
   "execution_count": 31,
   "id": "add93007-963f-4533-a671-3f0539e0cc1f",
   "metadata": {},
   "outputs": [],
   "source": [
    "model.add(Dense(32, activation='relu'))\n",
    "model.add(Dense(1, activation='sigmoid'))\n"
   ]
  },
  {
   "cell_type": "code",
   "execution_count": 32,
   "id": "0f60bda1-7d3a-4724-9ea0-d200dea9d403",
   "metadata": {},
   "outputs": [
    {
     "name": "stdout",
     "output_type": "stream",
     "text": [
      "Model: \"sequential_1\"\n",
      "_________________________________________________________________\n",
      " Layer (type)                Output Shape              Param #   \n",
      "=================================================================\n",
      " dense (Dense)               (None, 64)                768       \n",
      "                                                                 \n",
      " dense_1 (Dense)             (None, 32)                2080      \n",
      "                                                                 \n",
      " dense_2 (Dense)             (None, 32)                1056      \n",
      "                                                                 \n",
      " dense_3 (Dense)             (None, 1)                 33        \n",
      "                                                                 \n",
      "=================================================================\n",
      "Total params: 3937 (15.38 KB)\n",
      "Trainable params: 3937 (15.38 KB)\n",
      "Non-trainable params: 0 (0.00 Byte)\n",
      "_________________________________________________________________\n",
      "None\n"
     ]
    }
   ],
   "source": [
    "model.compile(optimizer='adam', loss='binary_crossentropy', metrics=['accuracy'])\n",
    "\n",
    "# Print the model summary\n",
    "print(model.summary())"
   ]
  },
  {
   "cell_type": "markdown",
   "id": "5e1bf766-0049-4c03-ac2f-1e66a7116493",
   "metadata": {},
   "source": [
    "Q9. Print the summary of the model architecture."
   ]
  },
  {
   "cell_type": "code",
   "execution_count": 33,
   "id": "e5ffd02b-f82c-471a-aad8-5965e2d90eed",
   "metadata": {},
   "outputs": [
    {
     "name": "stdout",
     "output_type": "stream",
     "text": [
      "Model: \"sequential_1\"\n",
      "_________________________________________________________________\n",
      " Layer (type)                Output Shape              Param #   \n",
      "=================================================================\n",
      " dense (Dense)               (None, 64)                768       \n",
      "                                                                 \n",
      " dense_1 (Dense)             (None, 32)                2080      \n",
      "                                                                 \n",
      " dense_2 (Dense)             (None, 32)                1056      \n",
      "                                                                 \n",
      " dense_3 (Dense)             (None, 1)                 33        \n",
      "                                                                 \n",
      "=================================================================\n",
      "Total params: 3937 (15.38 KB)\n",
      "Trainable params: 3937 (15.38 KB)\n",
      "Non-trainable params: 0 (0.00 Byte)\n",
      "_________________________________________________________________\n",
      "None\n"
     ]
    }
   ],
   "source": [
    "print(model.summary())"
   ]
  },
  {
   "cell_type": "markdown",
   "id": "b803c798-92b1-4e44-bc34-c83f338ae17f",
   "metadata": {},
   "source": [
    "Q10.Set the loss function(‘binary_crossentropy’), optimizer, and include the accuracy metric in the model."
   ]
  },
  {
   "cell_type": "code",
   "execution_count": 36,
   "id": "dc83e43b-1c09-4621-aa48-a925d472d81b",
   "metadata": {},
   "outputs": [],
   "source": [
    "model.compile(optimizer='adam', loss='binary_crossentropy', metrics=['accuracy'])"
   ]
  },
  {
   "cell_type": "markdown",
   "id": "5bc95d0d-683e-4d68-bdd6-503f2aea8497",
   "metadata": {},
   "source": [
    "Q11. Compile the model with the specified loss function, optimizer, and metrics."
   ]
  },
  {
   "cell_type": "code",
   "execution_count": 37,
   "id": "fbcd0e7d-7d49-4295-a2dc-36568808a53c",
   "metadata": {},
   "outputs": [],
   "source": [
    "model.compile(optimizer='adam', loss='binary_crossentropy', metrics=['accuracy'])"
   ]
  },
  {
   "cell_type": "markdown",
   "id": "93f9d0bc-a5b3-40d8-b186-a30f304e9a62",
   "metadata": {},
   "source": [
    "Q12. Fit the model to the training data using appropriate batch size and number of epochs."
   ]
  },
  {
   "cell_type": "code",
   "execution_count": 39,
   "id": "e52b5378-8389-483c-b5c1-cba4df8ac39f",
   "metadata": {},
   "outputs": [
    {
     "name": "stdout",
     "output_type": "stream",
     "text": [
      "Epoch 1/10\n",
      "15/15 [==============================] - 1s 20ms/step - loss: -1.5236 - accuracy: 0.0000e+00 - val_loss: -3.7925 - val_accuracy: 0.0000e+00\n",
      "Epoch 2/10\n",
      "15/15 [==============================] - 0s 5ms/step - loss: -7.1784 - accuracy: 0.0000e+00 - val_loss: -11.6005 - val_accuracy: 0.0000e+00\n",
      "Epoch 3/10\n",
      "15/15 [==============================] - 0s 5ms/step - loss: -19.2207 - accuracy: 0.0000e+00 - val_loss: -29.2457 - val_accuracy: 0.0000e+00\n",
      "Epoch 4/10\n",
      "15/15 [==============================] - 0s 5ms/step - loss: -46.7475 - accuracy: 0.0000e+00 - val_loss: -68.9179 - val_accuracy: 0.0000e+00\n",
      "Epoch 5/10\n",
      "15/15 [==============================] - 0s 5ms/step - loss: -106.6929 - accuracy: 0.0000e+00 - val_loss: -151.2713 - val_accuracy: 0.0000e+00\n",
      "Epoch 6/10\n",
      "15/15 [==============================] - 0s 5ms/step - loss: -225.7177 - accuracy: 0.0000e+00 - val_loss: -305.9903 - val_accuracy: 0.0000e+00\n",
      "Epoch 7/10\n",
      "15/15 [==============================] - 0s 5ms/step - loss: -440.8590 - accuracy: 0.0000e+00 - val_loss: -576.1600 - val_accuracy: 0.0000e+00\n",
      "Epoch 8/10\n",
      "15/15 [==============================] - 0s 5ms/step - loss: -807.3456 - accuracy: 0.0000e+00 - val_loss: -1022.3595 - val_accuracy: 0.0000e+00\n",
      "Epoch 9/10\n",
      "15/15 [==============================] - 0s 4ms/step - loss: -1396.0460 - accuracy: 0.0000e+00 - val_loss: -1720.0338 - val_accuracy: 0.0000e+00\n",
      "Epoch 10/10\n",
      "15/15 [==============================] - 0s 4ms/step - loss: -2287.8110 - accuracy: 0.0000e+00 - val_loss: -2757.1394 - val_accuracy: 0.0000e+00\n"
     ]
    }
   ],
   "source": [
    "batch_size = 64\n",
    "epochs = 10\n",
    "history = model.fit(X_train_scaled, y_train, batch_size=batch_size, epochs=epochs, validation_data=(X_val_scaled, y_val))"
   ]
  },
  {
   "cell_type": "markdown",
   "id": "77fb5527-f960-4d97-82a6-5daaa072831c",
   "metadata": {},
   "source": [
    "Q13. Obtain the model's parameters (weights and biases)."
   ]
  },
  {
   "cell_type": "code",
   "execution_count": 48,
   "id": "7429b090-2425-4d69-8b1a-e52fea584b5f",
   "metadata": {},
   "outputs": [
    {
     "name": "stdout",
     "output_type": "stream",
     "text": [
      "Layer 1:\n",
      "Parameter 1:\n",
      "[[ 2.52917826e-01 -1.15187526e-01 -2.01005295e-01 -3.60404253e-01\n",
      "   3.69068421e-02  3.18791330e-01  1.07980005e-01  3.80163729e-01\n",
      "   4.41657633e-01  1.31174341e-01 -2.83771425e-01  3.82287323e-01\n",
      "  -2.34095961e-01  3.28613967e-01  2.57564068e-01  1.27224848e-01\n",
      "   2.48457968e-01  6.34301156e-02  2.48699099e-01  1.78208634e-01\n",
      "  -4.07866299e-01 -2.60161638e-01  2.44815856e-01  4.72173452e-01\n",
      "   3.27452540e-01 -4.38880593e-01  3.19827259e-01 -4.49685901e-01\n",
      "   4.03653890e-01  4.26051140e-01 -1.44412428e-01 -4.62359041e-02\n",
      "  -3.07349503e-01  3.99096668e-01  5.18540442e-01 -2.78225303e-01\n",
      "   3.22546512e-01  4.18366671e-01 -2.90812433e-01 -5.92024401e-02\n",
      "   4.67500508e-01  3.82789373e-01 -9.30385366e-02  4.68781292e-01\n",
      "  -4.64225799e-01 -2.30360359e-01 -2.46949598e-01  9.57620293e-02\n",
      "  -1.91203088e-01  1.75386205e-01  2.82787532e-01  4.15006548e-01\n",
      "  -3.95045191e-01 -3.91892880e-01  5.05606830e-01 -2.96405792e-01\n",
      "  -3.36672813e-01  1.48477346e-01  2.80658901e-01  5.87010868e-02\n",
      "   3.49417388e-01  1.75943330e-01 -5.17183661e-01 -4.46488082e-01]\n",
      " [-3.83195966e-01 -3.13577414e-01  3.67321656e-03  5.15933931e-01\n",
      "   3.52743447e-01 -3.42085928e-01  2.91737199e-01 -4.71184671e-01\n",
      "   1.75541595e-01 -2.85776645e-01  3.32009017e-01  6.82613701e-02\n",
      "   1.47379547e-01  2.96049029e-01 -3.71542066e-01 -4.47447419e-01\n",
      "   8.99199173e-02 -4.37546641e-01  3.12612474e-01  3.07426721e-01\n",
      "   4.75371420e-01 -3.46867263e-01 -1.43484920e-01 -1.86906904e-01\n",
      "   4.46839094e-01 -4.53559041e-01 -4.56642687e-01  4.34098065e-01\n",
      "  -3.95023644e-01 -2.28000522e-01 -2.59607017e-01 -4.72377032e-01\n",
      "   2.37424880e-01 -1.96883887e-01 -4.15869504e-01  3.64315182e-01\n",
      "  -3.81926745e-01 -6.79292083e-02  3.87726724e-01 -3.44286919e-01\n",
      "   2.81591833e-01 -3.34194005e-01 -4.73318666e-01 -4.53352004e-01\n",
      "  -1.14411600e-01 -1.75512418e-01  2.75073759e-02 -2.61046171e-01\n",
      "   2.60950625e-02 -2.71920592e-01 -1.81654111e-01 -5.10738194e-01\n",
      "   1.31260633e-01 -2.28895769e-02 -7.82096758e-02 -1.13860972e-01\n",
      "  -3.88679236e-01 -3.83490980e-01 -4.54342693e-01 -4.31893378e-01\n",
      "  -2.52438664e-01 -1.97659001e-01 -2.25401819e-01 -3.85661423e-01]\n",
      " [ 3.17119002e-01 -3.25782925e-01 -3.78529191e-01 -1.02559812e-01\n",
      "  -4.51677918e-01  4.59059745e-01  1.64685488e-01  3.57078522e-01\n",
      "   4.50194068e-02  4.40696508e-01 -3.04770559e-01  3.17648709e-01\n",
      "  -1.68693468e-01 -1.45674780e-01  4.83545661e-01  1.93630904e-01\n",
      "   3.07268739e-01  2.82342046e-01  3.59774023e-01  1.82465494e-01\n",
      "  -3.34387153e-01 -7.47315884e-02  3.09489429e-01  1.24966959e-04\n",
      "  -1.26928715e-02  1.35499135e-01  3.13261867e-01 -3.74895573e-01\n",
      "  -2.61537880e-02 -9.62757468e-02 -2.97396958e-01  3.07091892e-01\n",
      "  -3.06353331e-01  4.02530432e-01  5.78251444e-02 -2.65566528e-01\n",
      "   5.37125021e-02  4.78655607e-01 -2.48218074e-01  2.86403060e-01\n",
      "   2.94128716e-01  5.10230601e-01  3.16456169e-01  4.43837196e-01\n",
      "  -4.11332279e-01 -4.62422473e-03 -5.03909051e-01  4.51694638e-01\n",
      "  -5.04094303e-01  3.83034736e-01 -3.02797277e-02  1.39479592e-01\n",
      "  -4.74922776e-01 -6.43775705e-03  4.27852094e-01 -4.50294614e-01\n",
      "  -3.52510780e-01  3.32421720e-01  4.89275813e-01  4.08865333e-01\n",
      "   3.36396962e-01  1.21633753e-01 -3.71015340e-01 -3.36527765e-01]\n",
      " [ 5.35121374e-02  1.31079033e-01  1.25231311e-01 -8.52533896e-03\n",
      "  -5.22776432e-02  3.06753248e-01 -3.82430822e-01 -3.70882213e-01\n",
      "   3.08339804e-01 -2.86534786e-01  1.07182316e-01  3.06061417e-01\n",
      "   3.05410862e-01 -3.17993730e-01 -3.65605563e-01 -4.77472723e-01\n",
      "  -6.83163153e-03  3.98943990e-01 -1.13961101e-01  7.24626854e-02\n",
      "  -4.52197455e-02 -2.93835908e-01  2.73875922e-01  2.70792395e-01\n",
      "  -4.29952323e-01  3.18400353e-01 -4.08756852e-01 -4.70701665e-01\n",
      "   2.01775596e-01 -2.14769527e-01 -3.67200166e-01 -2.47058377e-01\n",
      "  -3.24478984e-01  3.19634885e-01 -2.95934677e-01 -2.56601930e-01\n",
      "  -1.27712950e-01  2.35358968e-01 -3.40935171e-01  2.82046497e-01\n",
      "   4.67559159e-01 -4.47049513e-02 -4.78736550e-01  3.33251685e-01\n",
      "  -3.78593951e-01 -3.61793309e-01 -4.61762041e-01 -3.44510168e-01\n",
      "   1.97306648e-01 -2.86963731e-01  1.87650267e-02 -4.87812430e-01\n",
      "  -2.16798127e-01 -2.69888073e-01  1.67396307e-01 -3.04134637e-01\n",
      "  -3.18239480e-01  1.53473601e-01 -3.65778446e-01  2.40601286e-01\n",
      "   2.50982612e-01  4.24303502e-01 -6.50934651e-02  3.95760059e-01]\n",
      " [ 5.60131297e-02 -3.13796103e-01  1.64454490e-01  2.26205051e-01\n",
      "  -3.29444230e-01 -9.07649752e-03  3.92954290e-01  2.95071840e-01\n",
      "   1.35470688e-01 -1.15074731e-01 -1.81277066e-01  4.17580992e-01\n",
      "  -8.96079764e-02  3.35368603e-01 -2.17403784e-01 -4.63506639e-01\n",
      "   2.94029325e-01  4.63232137e-02 -3.08253676e-01 -3.63803595e-01\n",
      "   2.53225029e-01 -3.18556100e-01 -8.65157396e-02  2.64320761e-01\n",
      "  -3.44866693e-01 -2.06082061e-01  1.08399801e-01 -1.66402996e-01\n",
      "   1.36630282e-01 -2.08676815e-01 -2.73288965e-01  2.65746176e-01\n",
      "  -2.98867345e-01  1.84927180e-01  4.81193736e-02  2.16220289e-01\n",
      "  -3.92635733e-01  2.27310300e-01  1.45732045e-01 -1.92234069e-01\n",
      "   4.65563625e-01  3.28531802e-01 -4.87721980e-01 -3.71092618e-01\n",
      "  -3.22521299e-01  1.94656014e-01 -2.91486025e-01 -1.74103707e-01\n",
      "  -3.49142998e-01  2.86060452e-01  9.60756838e-03  5.85233830e-02\n",
      "  -2.75232315e-01  7.32252672e-02  1.64939299e-01 -1.29210025e-01\n",
      "  -8.99304226e-02 -1.43859357e-01  9.29792076e-02 -3.73692721e-01\n",
      "  -4.90980953e-01  2.38956302e-01 -4.07398820e-01 -2.69784957e-01]\n",
      " [ 1.00911506e-01  1.49740472e-01  1.86225861e-01  3.99052292e-01\n",
      "  -4.05971736e-01  3.40300381e-01 -1.81666940e-01 -4.40626085e-01\n",
      "  -4.33000803e-01 -3.91998976e-01  4.90720302e-01 -4.85656053e-01\n",
      "   1.14242457e-01 -5.97659089e-02 -4.30363119e-01 -4.82945025e-01\n",
      "  -8.83739442e-02  1.50361646e-03  4.47542429e-01 -2.40900815e-01\n",
      "  -4.85486776e-01  1.33435860e-01 -2.03156084e-01 -4.64597285e-01\n",
      "  -3.08182895e-01  4.31106500e-02  4.66421872e-01 -2.92388231e-01\n",
      "   3.93471628e-01 -2.26043716e-01 -2.23495051e-01 -3.05606335e-01\n",
      "   1.50812313e-01  4.49313760e-01 -1.03287533e-01  3.61092567e-01\n",
      "  -3.26211303e-02  4.00316082e-02 -2.07046106e-01  3.22384089e-01\n",
      "   4.01867330e-01  3.89985532e-01 -3.16365600e-01 -1.89765736e-01\n",
      "   4.03118938e-01  3.29019934e-01  2.15009287e-01 -3.92139927e-02\n",
      "   2.76778013e-01 -2.11194038e-01  2.63098866e-01 -3.80030304e-01\n",
      "   4.94003505e-01  3.67298901e-01 -1.68921396e-01 -8.41858089e-02\n",
      "   3.07380825e-01 -1.80004001e-01 -3.31498265e-01  4.30302292e-01\n",
      "   3.20938677e-01  1.04712307e-01 -3.77990603e-01  4.90693808e-01]\n",
      " [ 2.48375654e-01  4.24342245e-01  2.44937420e-01  5.23418337e-02\n",
      "  -1.22098625e-01  3.04005891e-01  8.14839527e-02 -4.79119092e-01\n",
      "   3.50516997e-02 -2.35278487e-01  1.61101893e-01 -2.53166705e-01\n",
      "   5.05189419e-01 -4.04863536e-01 -3.30683798e-01 -2.62908250e-01\n",
      "   1.67140856e-01 -2.73195297e-01  4.31391567e-01 -3.20260465e-01\n",
      "  -4.78476554e-01  2.90574506e-02  2.71789819e-01 -3.83501023e-01\n",
      "   2.09973991e-01  3.82421851e-01  1.80312425e-01 -3.58373910e-01\n",
      "   3.79503787e-01 -3.19613308e-01 -2.66223729e-01 -3.49925548e-01\n",
      "   3.97036850e-01  2.81112999e-01 -4.19891149e-01  3.05500180e-01\n",
      "  -3.86191487e-01  1.79783747e-01  2.69138739e-02  3.11200827e-01\n",
      "   4.49604154e-01  2.08851427e-01  8.39501321e-02 -1.18274741e-01\n",
      "  -1.05369739e-01  1.32669648e-02  1.04517840e-01  6.62198151e-03\n",
      "   1.65894523e-01 -3.35648179e-01  7.08056986e-02 -4.67128247e-01\n",
      "   7.11969063e-02 -4.15515989e-01  4.16281670e-01 -1.53333291e-01\n",
      "   3.55996698e-01 -3.30851644e-01 -1.38652951e-01  8.20957348e-02\n",
      "  -2.51058906e-01  4.20410365e-01  2.45766826e-02  2.77370870e-01]\n",
      " [ 3.33500266e-01  8.70763063e-02  2.51876056e-01  2.62208074e-01\n",
      "   9.47304666e-02 -1.23589128e-01  4.57918018e-01  1.04272306e-01\n",
      "   1.15943804e-01  1.90352857e-01  8.71410966e-02  3.83471787e-01\n",
      "  -2.01908275e-01 -2.03140318e-01  3.90048385e-01  1.91264465e-01\n",
      "  -1.99487153e-02  1.82377189e-01  2.10694700e-01  3.61679971e-01\n",
      "   1.36808038e-01 -3.57590348e-01 -2.49963999e-02 -1.29261926e-01\n",
      "   4.08929467e-01 -2.78382987e-01 -2.75205374e-01 -3.11371803e-01\n",
      "   3.54031384e-01  3.32777947e-01 -5.03282726e-01  3.50014567e-01\n",
      "  -3.11096609e-01  3.87343615e-01  3.69345513e-03  2.82853276e-01\n",
      "  -1.46386474e-01  4.97974008e-01 -4.51876819e-01  1.15823954e-01\n",
      "   4.30113822e-01  2.92316586e-01  4.52655643e-01  1.35237664e-01\n",
      "  -1.50183469e-01 -1.89434230e-01 -2.08258092e-01 -3.12453091e-01\n",
      "  -4.11758959e-01 -2.00782150e-01 -1.79229677e-01 -1.40884906e-01\n",
      "  -1.43204048e-01 -4.81480002e-01  3.29321384e-01 -3.70778143e-01\n",
      "  -4.39308763e-01  1.71431705e-01  2.74010092e-01 -3.80517483e-01\n",
      "   1.52130589e-01  4.33707625e-01 -4.73110497e-01 -3.70254636e-01]\n",
      " [ 2.29961667e-02  2.58161962e-01  2.43106559e-01  3.31480026e-01\n",
      "  -5.34435622e-02 -1.72517136e-01 -2.02916816e-01 -4.31128323e-01\n",
      "  -2.36002535e-01 -3.00580204e-01  3.67493570e-01 -3.58217597e-01\n",
      "   3.74659538e-01 -4.99831468e-01 -2.49385118e-01 -3.31460655e-01\n",
      "  -3.80737662e-01 -4.88424659e-01 -3.82374138e-01 -2.47524068e-01\n",
      "   1.79690987e-01  1.83213815e-01 -3.74769837e-01  1.20580316e-01\n",
      "  -7.80489966e-02  7.70007819e-03 -1.38445973e-01  3.04599136e-01\n",
      "  -3.72698963e-01  5.58173992e-02  2.86679715e-01 -3.03403974e-01\n",
      "   4.47295785e-01 -3.91603619e-01 -4.27154660e-01  3.70981097e-01\n",
      "  -2.08938107e-01 -3.38729411e-01  1.92462802e-01 -2.64943391e-01\n",
      "  -2.10071113e-02  5.69202006e-02  3.59264374e-01 -4.90542084e-01\n",
      "   5.01932979e-01  7.38383159e-02 -4.11012098e-02 -3.85933965e-01\n",
      "   3.55003357e-01 -3.43629301e-01 -4.00026411e-01  1.62270069e-01\n",
      "   4.14967865e-01  4.70842898e-01 -3.70228559e-01  1.15977593e-01\n",
      "   4.03376490e-01  1.08678490e-01 -1.06235696e-02  1.71643615e-01\n",
      "  -2.17193395e-01 -5.06927848e-01  1.41290069e-01  2.37941772e-01]\n",
      " [ 2.70053633e-02 -1.67471766e-02  7.79265240e-02 -1.02582537e-01\n",
      "  -2.94105738e-01 -7.78789893e-02  2.08554626e-01 -4.11467813e-02\n",
      "   1.97538376e-01  4.98233348e-01  8.86965618e-02  2.55823851e-01\n",
      "  -3.49976450e-01 -3.78392220e-01  4.45584476e-01 -1.48806870e-01\n",
      "   3.05563450e-01 -2.90542636e-02 -2.52224892e-01  1.00357763e-01\n",
      "  -2.59091616e-01 -4.82286453e-01  1.77646071e-01  8.43695104e-02\n",
      "  -3.23227823e-01 -4.23641533e-01  3.29748452e-01 -4.76331502e-01\n",
      "  -2.91219857e-02 -3.13693792e-01  2.66619511e-02  2.45660365e-01\n",
      "   3.11188072e-01  2.08732381e-01  2.77396500e-01  9.27726403e-02\n",
      "   1.25990778e-01  2.26855531e-01 -3.95850390e-01 -4.62713748e-01\n",
      "  -9.62316692e-02  1.68453157e-01  4.46332425e-01  1.71968043e-01\n",
      "  -4.30848032e-01  1.67506218e-01 -3.86170685e-01  4.60277408e-01\n",
      "  -9.42519680e-02 -2.68228918e-01  3.02559167e-01 -9.78939515e-03\n",
      "  -2.85507709e-01 -1.21178113e-01  3.76032919e-01  3.19334865e-01\n",
      "  -3.92295003e-01 -2.49678083e-02  2.85771281e-01  4.31859821e-01\n",
      "  -3.41433018e-01  1.32612467e-01 -4.58672881e-01 -2.97830671e-01]\n",
      " [-3.38013262e-01 -3.10393125e-01 -7.79383034e-02 -4.15008813e-01\n",
      "  -5.00780523e-01  3.39392424e-01 -2.00574756e-01  1.81784257e-01\n",
      "   9.04856846e-02  9.83372107e-02 -3.93700361e-01  3.49857301e-01\n",
      "  -1.01164177e-01  8.91515315e-02 -2.93777376e-01 -2.12594330e-01\n",
      "  -1.31594881e-01  1.45404115e-01 -4.34019804e-01 -2.30998084e-01\n",
      "  -5.07760584e-01  1.03526838e-01 -1.19623579e-02  3.44706774e-01\n",
      "  -2.09202677e-01  4.82838899e-01  2.01839775e-01  4.58711296e-01\n",
      "  -1.13281235e-02  7.99467042e-02  4.31182235e-01 -2.44466439e-01\n",
      "   2.36192659e-01 -1.72938362e-01  4.66751218e-01 -4.06183600e-01\n",
      "   3.42068166e-01 -5.66914491e-03  2.86664188e-01 -4.08990711e-01\n",
      "  -3.48638445e-01  3.42145413e-01 -3.53267848e-01  4.02693003e-01\n",
      "   3.79199594e-01  1.31874263e-01 -4.44864005e-01  4.26359504e-01\n",
      "   3.64060462e-01 -9.97110754e-02 -3.12043726e-01  3.99884284e-01\n",
      "   2.13074014e-02  2.57853240e-01  1.88521773e-01  4.21020240e-01\n",
      "   4.15961742e-01  3.60320121e-01 -1.52220175e-01  3.08417439e-01\n",
      "  -4.50209156e-02 -3.45873028e-01  4.59602207e-01  8.81792158e-02]]\n",
      "\n",
      "Parameter 2:\n",
      "[0.14804678 0.12272193 0.11784972 0.25199056 0.2506377  0.22979976\n",
      " 0.18627463 0.25036332 0.17348178 0.24486035 0.25231335 0.22874749\n",
      " 0.1897725  0.25651523 0.254438   0.2553371  0.1050422  0.1997413\n",
      " 0.25648278 0.17384568 0.24866073 0.24157757 0.12398033 0.18301737\n",
      " 0.22584127 0.24460994 0.20083483 0.2492159  0.14199576 0.15418644\n",
      " 0.22828345 0.1975686  0.19002506 0.2518243  0.24383508 0.18296807\n",
      " 0.15297142 0.24780993 0.2533133  0.2559321  0.24825127 0.24789402\n",
      " 0.24936888 0.20908639 0.245492   0.10298204 0.21646531 0.22310106\n",
      " 0.25368214 0.25154263 0.1453398  0.24914992 0.25002468 0.24911074\n",
      " 0.25032797 0.16990915 0.2493143  0.18190235 0.24842635 0.25391263\n",
      " 0.25261167 0.24883775 0.23416719 0.2468414 ]\n",
      "\n",
      "Layer 2:\n",
      "Parameter 1:\n",
      "[[ 0.03129208  0.15003002  0.21479513 ...  0.21783884  0.06768493\n",
      "   0.17728665]\n",
      " [ 0.40569     0.15673375 -0.01142558 ...  0.17370786  0.3389185\n",
      "   0.3815964 ]\n",
      " [ 0.03217228  0.04174509  0.00325055 ...  0.4096609   0.37525928\n",
      "   0.09080669]\n",
      " ...\n",
      " [ 0.29719114  0.4263715   0.19650193 ...  0.1379789   0.2567666\n",
      "   0.35474247]\n",
      " [ 0.17324996  0.39238882  0.4141013  ...  0.26451555  0.23203641\n",
      "   0.21907091]\n",
      " [ 0.21589951  0.4623866   0.4201759  ...  0.16109347  0.09430711\n",
      "   0.43985108]]\n",
      "\n",
      "Parameter 2:\n",
      "[ 0.23076908  0.23288433  0.23402578 -0.04682702  0.19114487  0.23147976\n",
      "  0.23012711  0.22317944  0.22543351  0.15875535  0.23027416  0.22468309\n",
      "  0.20454095 -0.03303809  0.22929803  0.2129012   0.22432867  0.23307504\n",
      "  0.22893235  0.20544216  0.2181706   0.23456904  0.22179559  0.10477212\n",
      "  0.21944901  0.09234923  0.22017017  0.13737983  0.23167805  0.24458814\n",
      "  0.23987162  0.2298465 ]\n",
      "\n",
      "Layer 3:\n",
      "Parameter 1:\n",
      "[[-0.11004515  0.1617755   0.03294159 ...  0.2635584  -0.24079241\n",
      "   0.37446967]\n",
      " [ 0.20139852  0.13944268  0.10473143 ...  0.01506059 -0.17314859\n",
      "   0.46067312]\n",
      " [ 0.00634487  0.12627338  0.03752691 ... -0.0234445  -0.01691114\n",
      "   0.46183202]\n",
      " ...\n",
      " [ 0.05854078 -0.02520911  0.11781659 ...  0.39128587  0.04500294\n",
      "   0.29306394]\n",
      " [-0.28142223 -0.19556665  0.30102372 ... -0.0109257  -0.21319568\n",
      "   0.3811483 ]\n",
      " [-0.03434964  0.09169053  0.03601691 ...  0.0887747  -0.18541627\n",
      "   0.11123502]]\n",
      "\n",
      "Parameter 2:\n",
      "[-0.04041465 -0.01356926  0.20279038  0.16557646 -0.03588438 -0.02633422\n",
      " -0.04273873  0.192229    0.18211265  0.18216215  0.22616723  0.22792774\n",
      " -0.01519517  0.18701535 -0.04224476 -0.06698827  0.16411844 -0.03353631\n",
      "  0.1904658  -0.02823759  0.17237036 -0.02833526  0.1852709   0.19412836\n",
      "  0.21041915  0.17663263 -0.03217686  0.22089615  0.22275388  0.17494248\n",
      " -0.02546087  0.18342324]\n",
      "\n",
      "Layer 4:\n",
      "Parameter 1:\n",
      "[[-0.05467751]\n",
      " [-0.2418525 ]\n",
      " [ 0.6902657 ]\n",
      " [ 0.5600539 ]\n",
      " [-0.23040424]\n",
      " [-0.17222735]\n",
      " [-0.04905626]\n",
      " [ 0.6277909 ]\n",
      " [ 0.65641654]\n",
      " [ 0.6321386 ]\n",
      " [ 0.3305944 ]\n",
      " [ 0.2778029 ]\n",
      " [-0.28729096]\n",
      " [ 0.44683132]\n",
      " [-0.01594915]\n",
      " [-0.07886682]\n",
      " [ 0.60421735]\n",
      " [-0.02030131]\n",
      " [ 0.64976996]\n",
      " [-0.15120319]\n",
      " [ 0.5366964 ]\n",
      " [-0.005294  ]\n",
      " [ 0.24179688]\n",
      " [ 0.3644039 ]\n",
      " [ 0.3312269 ]\n",
      " [ 0.5231321 ]\n",
      " [-0.06804811]\n",
      " [ 0.2823983 ]\n",
      " [ 0.26042637]\n",
      " [ 0.43335134]\n",
      " [-0.21651913]\n",
      " [ 0.64695615]]\n",
      "\n",
      "Parameter 2:\n",
      "[0.14721794]\n",
      "\n"
     ]
    }
   ],
   "source": [
    "model_parameters = []\n",
    "\n",
    "for layer in model.layers:\n",
    "    layer_params = layer.get_weights()\n",
    "    model_parameters.append(layer_params)\n",
    "\n",
    "for i, layer_params in enumerate(model_parameters):\n",
    "    print(f\"Layer {i + 1}:\")\n",
    "    for j, param in enumerate(layer_params):\n",
    "        print(f\"Parameter {j + 1}:\")\n",
    "        print(param)\n",
    "        print()"
   ]
  },
  {
   "cell_type": "markdown",
   "id": "2b666655-4196-4b18-b5f1-7856f1ff6216",
   "metadata": {},
   "source": [
    "Q14. Store the model's training history as a Pandas DataFrame."
   ]
  },
  {
   "cell_type": "code",
   "execution_count": 49,
   "id": "038c48e5-3809-414b-8331-6c405dadb4e1",
   "metadata": {},
   "outputs": [
    {
     "name": "stdout",
     "output_type": "stream",
     "text": [
      "          loss  accuracy     val_loss  val_accuracy\n",
      "0    -1.523615       0.0    -3.792528           0.0\n",
      "1    -7.178351       0.0   -11.600534           0.0\n",
      "2   -19.220707       0.0   -29.245691           0.0\n",
      "3   -46.747540       0.0   -68.917885           0.0\n",
      "4  -106.692894       0.0  -151.271332           0.0\n",
      "5  -225.717682       0.0  -305.990295           0.0\n",
      "6  -440.859039       0.0  -576.159973           0.0\n",
      "7  -807.345581       0.0 -1022.359497           0.0\n",
      "8 -1396.046021       0.0 -1720.033813           0.0\n",
      "9 -2287.811035       0.0 -2757.139404           0.0\n"
     ]
    }
   ],
   "source": [
    "import pandas as pd\n",
    "\n",
    "# Convert the history object to a DataFrame\n",
    "history_df = pd.DataFrame(history.history)\n",
    "\n",
    "# Display the DataFrame\n",
    "print(history_df)"
   ]
  },
  {
   "cell_type": "markdown",
   "id": "e262743b-7cc7-4a65-93d3-fd4fde913f3c",
   "metadata": {},
   "source": [
    "Q15. Plot the training history (e.g., accuracy and loss) using suitable visualization techniques."
   ]
  },
  {
   "cell_type": "code",
   "execution_count": 50,
   "id": "e87f7463-27ae-40f1-980d-cfb19c333452",
   "metadata": {},
   "outputs": [
    {
     "data": {
      "image/png": "[encoded data removed]",
      "text/plain": [
       "<Figure size 640x480 with 1 Axes>"
      ]
     },
     "metadata": {},
     "output_type": "display_data"
    }
   ],
   "source": [
    "import matplotlib.pyplot as plt\n",
    "\n",
    "# Plot training & validation accuracy values\n",
    "plt.plot(history.history['accuracy'])\n",
    "plt.plot(history.history['val_accuracy'])\n",
    "plt.title('Model accuracy')\n",
    "plt.xlabel('Epoch')\n",
    "plt.ylabel('Accuracy')\n",
    "plt.legend(['Train', 'Validation'], loc='upper left')\n",
    "plt.show()"
   ]
  },
  {
   "cell_type": "code",
   "execution_count": 51,
   "id": "959ca56f-ee42-44ba-9bd7-797a7f24625e",
   "metadata": {},
   "outputs": [
    {
     "data": {
      "image/png": "[encoded data removed]",
      "text/plain": [
       "<Figure size 640x480 with 1 Axes>"
      ]
     },
     "metadata": {},
     "output_type": "display_data"
    }
   ],
   "source": [
    "plt.plot(history.history['loss'])\n",
    "plt.plot(history.history['val_loss'])\n",
    "plt.title('Model loss')\n",
    "plt.xlabel('Epoch')\n",
    "plt.ylabel('Loss')\n",
    "plt.legend(['Train', 'Validation'], loc='upper left')\n",
    "plt.show()"
   ]
  },
  {
   "cell_type": "code",
   "execution_count": null,
   "id": "3ecf4966-8418-4623-b722-ccbf4f27700f",
   "metadata": {},
   "outputs": [],
   "source": []
  },
  {
   "cell_type": "code",
   "execution_count": null,
   "id": "6a8d02d4-fc62-4d95-85f9-5192f9c9654f",
   "metadata": {},
   "outputs": [],
   "source": []
  },
  {
   "cell_type": "code",
   "execution_count": null,
   "id": "7c9cc2b9-3e2d-4831-bfb5-30b77cb5596c",
   "metadata": {},
   "outputs": [],
   "source": []
  }
 ],
 "metadata": {
  "kernelspec": {
   "display_name": "Python 3 (ipykernel)",
   "language": "python",
   "name": "python3"
  },
  "language_info": {
   "codemirror_mode": {
    "name": "ipython",
    "version": 3
   },
   "file_extension": ".py",
   "mimetype": "text/x-python",
   "name": "python",
   "nbconvert_exporter": "python",
   "pygments_lexer": "ipython3",
   "version": "3.10.8"
  }
 },
 "nbformat": 4,
 "nbformat_minor": 5
}
